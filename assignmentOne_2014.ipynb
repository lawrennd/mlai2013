{
 "metadata": {
  "name": "assignmentOne_2014"
 },
 "nbformat": 3,
 "nbformat_minor": 0,
 "worksheets": [
  {
   "cells": [
    {
     "cell_type": "heading",
     "level": 1,
     "metadata": {},
     "source": [
      "Assignment Sheet 1: Regression in Python"
     ]
    },
    {
     "cell_type": "heading",
     "level": 5,
     "metadata": {},
     "source": [
      "set by Neil Lawrence, October 15th, 2013"
     ]
    },
    {
     "cell_type": "heading",
     "level": 3,
     "metadata": {},
     "source": [
      "Submitted by:"
     ]
    },
    {
     "cell_type": "heading",
     "level": 3,
     "metadata": {},
     "source": [
      "Student number:"
     ]
    },
    {
     "cell_type": "markdown",
     "metadata": {},
     "source": [
      "Make sure you add your name and student number to the file at the top before submitting. $$\\newcommand{\\inputScalar}{x}\\newcommand{\\lengthScale}{\\ell}\\newcommand{\\mappingVector}{\\mathbf{w}}\\newcommand{\\gaussianDist}[3]{\\mathcal{N}\\left(#1|#2,#3\\right)}\\newcommand{\\zerosVector}{\\mathbf{0}}\\newcommand{\\eye}{\\mathbf{I}}\\newcommand{\\dataStd}{\\sigma}\\newcommand{\\dataMatrix}{\\mathbf{Y}}\\newcommand{\\dataVector}{\\mathbf{y}}\\newcommand{\\kernelMatrix}{\\mathbf{K}}\\newcommand{\\basisMatrix}{\\mathbf{\\Phi}}\\newcommand{\\expSamp}[1]{\\left<#1\\right>}\\newcommand{\\covarianceMatrix}{\\mathbf{C}}\\newcommand{\\numData}{N}\\newcommand{\\mappingScalar}{w}$$"
     ]
    },
    {
     "cell_type": "markdown",
     "metadata": {},
     "source": [
      "You should store your answers to the questions in this ipython notebook file. This file will be submitted at the assignment deadline. Place your answers at the points indicated below. \n",
      "\n",
      "* **Do *not* edit the comment or heading that starts each answer block.**\n",
      "* **Do *not* add extra answer blocks, use only the answer blocks provided.**\n",
      "\n",
      "E.g. if there were a question 4(c) your answer block would look like this:"
     ]
    },
    {
     "cell_type": "code",
     "collapsed": false,
     "input": [
      "# Answer 4(c)\n",
      "# Code for your answer\n",
      "# appears here"
     ],
     "language": "python",
     "metadata": {},
     "outputs": [],
     "prompt_number": 1
    },
    {
     "cell_type": "markdown",
     "metadata": {},
     "source": [
      "When you are provided with a *markdown box* a written answer is expected. These answer blocks start with . These answers should start with the answer number in bold as below:"
     ]
    },
    {
     "cell_type": "markdown",
     "metadata": {},
     "source": [
      "**Answer 4(e)**\n",
      "A written answer appears here."
     ]
    },
    {
     "cell_type": "markdown",
     "metadata": {},
     "source": [
      "You have been provided with boxes at the right points to give your answers.  "
     ]
    },
    {
     "cell_type": "markdown",
     "metadata": {},
     "source": [
      " The answers will be submitted before the start of the lab class in Week 7 via MOLE. **Late submissions will get zero** as we will mark the submissions directly after they are received in the lab class. We will try to run your notebook by loading it and selecting 'Run All' from the menu. "
     ]
    },
    {
     "cell_type": "markdown",
     "metadata": {},
     "source": [
      "Make sure you answer each of the questions! The marks for each part are given in italics. Total marks add up to 100."
     ]
    },
    {
     "cell_type": "markdown",
     "metadata": {},
     "source": [
      "At the beginning of your script you'll want to set it up so that the plots appear *inline*"
     ]
    },
    {
     "cell_type": "code",
     "collapsed": false,
     "input": [
      "%pylab inline"
     ],
     "language": "python",
     "metadata": {},
     "outputs": []
    },
    {
     "cell_type": "markdown",
     "metadata": {},
     "source": [
      "which will also import the `numpy` library as `np` and the pylab plotting libraries as `plt`.\n"
     ]
    },
    {
     "cell_type": "markdown",
     "metadata": {},
     "source": [
      "**Olympic Data** The marks allocated here will make up 20% of\n",
      "your mark for the entire course. Marks are given beside each\n",
      "question. "
     ]
    },
    {
     "cell_type": "markdown",
     "metadata": {},
     "source": [
      "We are going to load in the Olympic marathon data\n",
      "we have seen in the lecture and lab classes. "
     ]
    },
    {
     "cell_type": "code",
     "collapsed": false,
     "input": [
      "import urllib\n",
      "url = (\"http://staffwww.dcs.shef.ac.uk/\"\n",
      "    + \"people/N.Lawrence/dataset_mirror/\"\n",
      "    + \"olympic_marathon_men/olympicMarathonTimes.csv\")\n",
      "urllib.urlretrieve(url, 'olympicMarathonTimes.csv')\n",
      "olympics = np.loadtxt('olympicMarathonTimes.csv', delimiter=',')  \n",
      "x = olympics[:, 0:1]\n",
      "y = olympics[:, 1:2]"
     ],
     "language": "python",
     "metadata": {},
     "outputs": []
    },
    {
     "cell_type": "markdown",
     "metadata": {},
     "source": [
      "1) **Linear Model**\n"
     ]
    },
    {
     "cell_type": "markdown",
     "metadata": {},
     "source": [
      "  (a) Fit a linear model to the data as above. Plot the fit. Compute\n",
      "    the final error. *5 marks*\n"
     ]
    },
    {
     "cell_type": "code",
     "collapsed": false,
     "input": [
      "# Answer 1(a)"
     ],
     "language": "python",
     "metadata": {},
     "outputs": []
    },
    {
     "cell_type": "markdown",
     "metadata": {},
     "source": [
      "  (b) Now we will fit a non-linear basis function model. Start by\n",
      "    creating a quadratic basis \n"
     ]
    },
    {
     "cell_type": "code",
     "collapsed": false,
     "input": [
      "Phi = np.hstack((np.ones_like(x), x, x**2))"
     ],
     "language": "python",
     "metadata": {},
     "outputs": []
    },
    {
     "cell_type": "markdown",
     "metadata": {},
     "source": [
      "and plot the fit, again computing the final error. *5 marks*\n"
     ]
    },
    {
     "cell_type": "code",
     "collapsed": false,
     "input": [
      "# Answer 1(b)"
     ],
     "language": "python",
     "metadata": {},
     "outputs": []
    },
    {
     "cell_type": "markdown",
     "metadata": {},
     "source": [
      "  (c) Large order polynomial fits tend to do fairly extraordinary things outside an input range of -1 to 1. Have a think about why this is, in particular, what is the result of $2012^8$? Do you think that is a suitable basis? What could be wrong with it? *5 marks*"
     ]
    },
    {
     "cell_type": "markdown",
     "metadata": {},
     "source": [
      "**Answer 1(c)**"
     ]
    },
    {
     "cell_type": "markdown",
     "metadata": {},
     "source": [
      "2) **Radial Basis Functions** We turn to a fit based on exponentiated quadratic (or Gaussian or radial) basis functions:\n"
     ]
    },
    {
     "cell_type": "markdown",
     "metadata": {},
     "source": [
      "$$\\phi(\\inputScalar) = \\exp\\left(-\\frac{(\\inputScalar - \\mu)^2}{2\\lengthScale^2}\\right)$$\n"
     ]
    },
    {
     "cell_type": "markdown",
     "metadata": {},
     "source": [
      "For each model, you can place the basis functions uniformly across the input space. So we have:\n",
      "\n"
     ]
    },
    {
     "cell_type": "code",
     "collapsed": false,
     "input": [
      "num_basis = 3\n",
      "mu_vector = np.linspace(1896,2012,num_basis)"
     ],
     "language": "python",
     "metadata": {},
     "outputs": []
    },
    {
     "cell_type": "markdown",
     "metadata": {},
     "source": [
      "as a one dimensional array containing the centres of the basis, where `num_basis` is the number of basis functions. You can construct the basis matrix using\n",
      "\n"
     ]
    },
    {
     "cell_type": "code",
     "collapsed": false,
     "input": [
      "# Allocate the matrix for the basis set\n",
      "Phi = np.zeros((x.shape[0], num_basis))\n",
      "# Set the width of the basis functions\n",
      "width = 2*(x.max() - x.min())/num_basis\n",
      "# precompute the scale of the exponent\n",
      "scale = -1/(2*width*width)\n",
      "for i in range(0, num_basis):\n",
      "    Phi[:, i] = np.exp(scale*(x.flatten()-mu_vector[i])**2)"
     ],
     "language": "python",
     "metadata": {},
     "outputs": []
    },
    {
     "cell_type": "markdown",
     "metadata": {},
     "source": [
      "Note here that we are setting the width of the basis functions according to the distance between the basis functions.\n"
     ]
    },
    {
     "cell_type": "markdown",
     "metadata": {},
     "source": [
      "(a) Plot the basis function values for the inputs of years between 1896 and 2012. On the $x$-axis should be years, on the $y$-axis the values of the basis functions. Create the plot for 2, 5 and 10 basis functions. Make sure the basis functions are nicely overlapping (i.e. that you've set the width correctly) and that they are spread out across the input range. *5 marks*\n"
     ]
    },
    {
     "cell_type": "code",
     "collapsed": false,
     "input": [
      "# Answer 2(a)"
     ],
     "language": "python",
     "metadata": {},
     "outputs": []
    },
    {
     "cell_type": "markdown",
     "metadata": {},
     "source": [
      "(b) Now let's observe what type of functions these basis sets can generate by sampling a weight vector, $\\mappingVector$, from a Gaussian density and using it to create a function sampled from the prior. Do this a few different times, obtaining a different sample from the Gaussian for $\\mappingVector$ each time. Do this for models containing 2, 5 and 10 basis functions. *5 marks*"
     ]
    },
    {
     "cell_type": "code",
     "collapsed": false,
     "input": [
      "# Answer 2(b)"
     ],
     "language": "python",
     "metadata": {},
     "outputs": []
    },
    {
     "cell_type": "markdown",
     "metadata": {},
     "source": [
      "(c) Fit basis function models with between 1 and 27 basis functions (for each number of basis functions have your code create the plot, show the error as the title `plt.title('errorValue')`, pause for a convenient amount of time and then create the next plot. Store the error values and plot them in a separate plot against the number of basis functions. *10 marks*\n"
     ]
    },
    {
     "cell_type": "code",
     "collapsed": false,
     "input": [
      "# Answer 2(c)"
     ],
     "language": "python",
     "metadata": {},
     "outputs": []
    },
    {
     "cell_type": "markdown",
     "metadata": {},
     "source": [
      "*Hints:* Don't forget to fit the noise variance!!"
     ]
    },
    {
     "cell_type": "markdown",
     "metadata": {},
     "source": [
      "(d) **Data Fit** Which number of basis functions has the lowest error? Do you think this is a good fit? *1 mark*"
     ]
    },
    {
     "cell_type": "code",
     "collapsed": false,
     "input": [
      "# Answer 2(d)"
     ],
     "language": "python",
     "metadata": {},
     "outputs": []
    },
    {
     "cell_type": "markdown",
     "metadata": {},
     "source": [
      "(e) **Validation Data** Let's assume that we only have the data up until 1980. Hold-out the data from 1984 onwards. Now retrain your models and test the result on this held out data. What is the difference in your results? Which number of basis functions now has the best error? *10 marks*"
     ]
    },
    {
     "cell_type": "code",
     "collapsed": false,
     "input": [
      "# Answer 2(e)"
     ],
     "language": "python",
     "metadata": {},
     "outputs": []
    },
    {
     "cell_type": "markdown",
     "metadata": {},
     "source": [
      "(f) **Cross Validation** For each number of basis compute and plot the cross validation errors described below. Which model should be chosen according to each of these model selection criterion?"
     ]
    },
    {
     "cell_type": "markdown",
     "metadata": {},
     "source": [
      "(i) the leave-one-out cross validation error. *10 marks*"
     ]
    },
    {
     "cell_type": "code",
     "collapsed": false,
     "input": [
      "# Answer 2(f)(i)"
     ],
     "language": "python",
     "metadata": {},
     "outputs": []
    },
    {
     "cell_type": "markdown",
     "metadata": {},
     "source": [
      "(ii) the 5 fold cross validation error. *10 marks*"
     ]
    },
    {
     "cell_type": "code",
     "collapsed": false,
     "input": [
      "# Answer 2(f)(ii)"
     ],
     "language": "python",
     "metadata": {},
     "outputs": []
    },
    {
     "cell_type": "markdown",
     "metadata": {},
     "source": [
      "*Note:* The data doesn't divide into 5 equal size partitions for the five fold cross validation error. Don't worry about this too much. Two of the partitions will have an extra data point. You might find `np.random.permutation?` useful."
     ]
    },
    {
     "cell_type": "markdown",
     "metadata": {},
     "source": [
      "  3) **Bayesian Solution** In this question you will perform\n",
      "    Bayesian inference on the data. Use the same basis sets from the\n",
      "    previous question. Select a Gaussian prior for the mapping vector,\n",
      "    $\\mappingVector$,\n"
     ]
    },
    {
     "cell_type": "markdown",
     "metadata": {},
     "source": [
      "$$p(\\mappingVector) = \\gaussianDist{\\mappingVector}{\\zerosVector}{\\alpha\\eye},$$\n"
     ]
    },
    {
     "cell_type": "markdown",
     "metadata": {},
     "source": [
      "where $\\alpha$ is the prior variance. Assume a standard deviation of $\\dataStd = 0.3$ for the noise (i.e. a variance of $\\dataStd^2 = 0.09$) and a variance of $\\alpha=100$ for the prior variance on $\\mappingVector$.\n"
     ]
    },
    {
     "cell_type": "markdown",
     "metadata": {},
     "source": [
      "(a) **Marginal Likelihood** Now compute and plot the log \\emph{marginal likelihood}, $\\log p(\\dataMatrix)$, for each of the models\n"
     ]
    },
    {
     "cell_type": "markdown",
     "metadata": {},
     "source": [
      "$$\\log p(\\dataMatrix) = -\\frac{\\numData}{2}\\log 2 \\pi -\\frac{1}{2}\\log \\det{\\kernelMatrix} - \\frac{1}{2} \\dataVector ^\\top\\kernelMatrix^{-1}\\dataVector,$$\n"
     ]
    },
    {
     "cell_type": "markdown",
     "metadata": {},
     "source": [
      "where"
     ]
    },
    {
     "cell_type": "markdown",
     "metadata": {},
     "source": [
      "$$\\kernelMatrix = \\alpha \\basisMatrix \\basisMatrix^\\top + \\eye \\dataStd^2.$$"
     ]
    },
    {
     "cell_type": "markdown",
     "metadata": {},
     "source": [
      "Find the model with the best fit according to the marginal likelihood. Does it match that chosen by cross-validation or validation? *10 marks*"
     ]
    },
    {
     "cell_type": "code",
     "collapsed": false,
     "input": [
      "# Answer 3(a)"
     ],
     "language": "python",
     "metadata": {},
     "outputs": []
    },
    {
     "cell_type": "markdown",
     "metadata": {},
     "source": [
      "(b) **Posterior Mean Prediction and Variance** For the selected model compute the mean and covariance of the posterior density for $\\mappingVector$. "
     ]
    },
    {
     "cell_type": "markdown",
     "metadata": {},
     "source": [
      "$$\\expSamp{\\mappingVector\\mappingVector^\\top} = \\covarianceMatrix_\\mappingScalar + \\expSamp{\\mappingVector}\\expSamp{\\mappingVector}^\\top$$\n"
     ]
    },
    {
     "cell_type": "markdown",
     "metadata": {},
     "source": [
      "$$\\covarianceMatrix_\\mappingScalar = \\left[\\frac{1}{\\dataStd^2}\\basisMatrix^\\top \\basisMatrix + \\alpha^{-1}\\eye\\right]^{-1}$$"
     ]
    },
    {
     "cell_type": "markdown",
     "metadata": {},
     "source": [
      "$$\\expSamp{\\mappingVector} =  \\covarianceMatrix_\\mappingScalar \\dataStd^{-2}\\basisMatrix^\\top \\dataVector$$ \n"
     ]
    },
    {
     "cell_type": "markdown",
     "metadata": {},
     "source": [
      "Plot the mean fit to the data and one standard deviation above and below. For this plot extend the input range of your plot to be between 1850 and 2050. *10 marks*  \n"
     ]
    },
    {
     "cell_type": "code",
     "collapsed": false,
     "input": [
      "# Answer 3(b)"
     ],
     "language": "python",
     "metadata": {},
     "outputs": []
    },
    {
     "cell_type": "markdown",
     "metadata": {},
     "source": [
      "(c) **Posterior Samples** For the same model take 10 samples from this posterior density to plot 10 fits to the data on top of the data. Plot all the samples in the same plot (continue to use the 200 year input range from 1850 to 2050). Check `np.random.multivariate_normal?` for sampling from a multivariate Gaussian. *5 marks*\n"
     ]
    },
    {
     "cell_type": "code",
     "collapsed": false,
     "input": [
      "# Answer 3(c)"
     ],
     "language": "python",
     "metadata": {},
     "outputs": []
    },
    {
     "cell_type": "markdown",
     "metadata": {},
     "source": [
      "(d) **Quality of Error Bars** Comment on the quality of the error bars. Are the variances for the predictions reasonable across the input range? *9 marks*"
     ]
    },
    {
     "cell_type": "markdown",
     "metadata": {},
     "source": [
      "**Answer 3(d)**"
     ]
    },
    {
     "cell_type": "markdown",
     "metadata": {},
     "source": [
      "Useful commands: `np.linalg.det?`, `np.pi?`\n"
     ]
    }
   ],
   "metadata": {}
  }
 ]
}