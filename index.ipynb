{
 "metadata": {
  "name": "",
  "signature": "sha256:d074e1b0ef09d2450f865261495a7343baf01e7061caca8e15cca6519d7a35ad"
 },
 "nbformat": 3,
 "nbformat_minor": 0,
 "worksheets": [
  {
   "cells": [
    {
     "cell_type": "markdown",
     "metadata": {},
     "source": [
      "## Introduction to Machine Learning Lab Classes\n",
      "\n",
      "This subdirectory contains lab classes from my Masters course on machine learning. The material is targeted at students who have familiarity with programming, linear algrebra and probability. At the end of this course you have enough background material to begin the notebooks from the Gaussian process summer school.\n",
      "\n",
      "* [Lab Class 1](./MLAI_lab1.ipynb)\n",
      "\n",
      "Introduction to IPython notebooks and a refresher course on expectations and sampling from probability densities.\n",
      "\n",
      "* [Lab Class 2](./MLAI_lab2.ipynb)\n",
      "\n",
      "Linear regression in python with numpy.\n",
      "\n",
      "* [Lab Class 3](./MLAI_lab3.ipynb)\n",
      "\n",
      "Generalization: training sets and test sets, validation.\n",
      "\n",
      "* [Lab Class 4](./MLAI_lab4.ipynb)\n",
      "\n",
      "Bayesian approaches.\n",
      "\n",
      "* [Lab Class 5](./MLAI_lab5.ipynb)\n",
      "\n",
      "Gaussian process models."
     ]
    },
    {
     "cell_type": "code",
     "collapsed": false,
     "input": [],
     "language": "python",
     "metadata": {},
     "outputs": []
    }
   ],
   "metadata": {}
  }
 ]
}