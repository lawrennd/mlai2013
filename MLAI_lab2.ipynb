{
 "metadata": {
  "name": "MLAI_lab2"
 },
 "nbformat": 3,
 "nbformat_minor": 0,
 "worksheets": [
  {
   "cells": [
    {
     "cell_type": "heading",
     "level": 1,
     "metadata": {},
     "source": [
      "Lab Session 2: Linear Regression"
     ]
    },
    {
     "cell_type": "heading",
     "level": 3,
     "metadata": {},
     "source": [
      "Neil D. Lawrence COM4509/6509 Machine Learning and Adaptive Intelligence"
     ]
    },
    {
     "cell_type": "markdown",
     "metadata": {},
     "source": [
      "The aim of this lab is to have you coding linear regression in python. We will do it in two ways, once using iterative updates (coordinate ascent) and then using linear algebra. Firstly we will import the relevant libraries. "
     ]
    },
    {
     "cell_type": "code",
     "collapsed": true,
     "input": [
      "import numpy as np\n",
      "import matplotlib as plt"
     ],
     "language": "python",
     "metadata": {},
     "outputs": []
    },
    {
     "cell_type": "markdown",
     "metadata": {},
     "source": [
      "Next we want to make sure our plots appear *inline* rather than in separate windows, so we use the IPython magic command:"
     ]
    },
    {
     "cell_type": "code",
     "collapsed": false,
     "input": [
      "%pylab inline"
     ],
     "language": "python",
     "metadata": {},
     "outputs": []
    },
    {
     "cell_type": "markdown",
     "metadata": {},
     "source": [
      "Remember, that to check what a command does simply type:"
     ]
    },
    {
     "cell_type": "code",
     "collapsed": false,
     "input": [
      "np.random.randn?"
     ],
     "language": "python",
     "metadata": {},
     "outputs": []
    },
    {
     "cell_type": "heading",
     "level": 2,
     "metadata": {},
     "source": [
      "Linear Regression"
     ]
    },
    {
     "cell_type": "markdown",
     "metadata": {},
     "source": [
      "For this part we are going to load in some real data, we will use the example from the Olympics: the pace of Marathon winners. To load their data (which is in comma separated values [csv] format) we first need to download it from [this link](http://staffwww.dcs.shef.ac.uk/people/N.Lawrence/dataset_mirror/olympic_marathon_men/olympicMarathonTimes.csv \"olympic marathon data\"), and then load it as follows:"
     ]
    },
    {
     "cell_type": "code",
     "collapsed": true,
     "input": [
      "olympics = np.genfromtxt('olympicMarathonTimes.csv', delimiter=',')"
     ],
     "language": "python",
     "metadata": {},
     "outputs": []
    },
    {
     "cell_type": "markdown",
     "metadata": {},
     "source": [
      "This loads the data into a numpy array. You can extract the years and pace of the winners, respectively into column vectors as follows:"
     ]
    },
    {
     "cell_type": "code",
     "collapsed": false,
     "input": [
      "x = olympics[:, 0:1]\n",
      "y = olympics[:, 1:2]"
     ],
     "language": "python",
     "metadata": {},
     "outputs": []
    },
    {
     "cell_type": "markdown",
     "metadata": {},
     "source": [
      "You can se what these values are by typing:"
     ]
    },
    {
     "cell_type": "code",
     "collapsed": false,
     "input": [
      "print(x)\n",
      "print(y)"
     ],
     "language": "python",
     "metadata": {},
     "outputs": []
    },
    {
     "cell_type": "heading",
     "level": 3,
     "metadata": {},
     "source": [
      "Plotting the Data"
     ]
    },
    {
     "cell_type": "markdown",
     "metadata": {},
     "source": [
      "And you can make a plot of $y$ vs $x$ with the following command:"
     ]
    },
    {
     "cell_type": "code",
     "collapsed": false,
     "input": [
      "plt.plot(x, y, 'rx')"
     ],
     "language": "python",
     "metadata": {},
     "outputs": []
    },
    {
     "cell_type": "heading",
     "level": 3,
     "metadata": {},
     "source": [
      "Maximum Likelihood: Iterative Solution"
     ]
    },
    {
     "cell_type": "markdown",
     "metadata": {},
     "source": [
      "Now we are going to fit a line, $y_i=mx_i + c$, to the data you've plotted. We are trying to minimize the error function:"
     ]
    },
    {
     "cell_type": "markdown",
     "metadata": {},
     "source": [
      "$$E(m, c, \\sigma^2) = \\frac{N}{2} \\log \\sigma^2 + \\frac{1}{2\\sigma^2} \\sum_{i=1}^N(y_i-mx_i-c)^2$$"
     ]
    },
    {
     "cell_type": "markdown",
     "metadata": {},
     "source": [
      "with respect to $m$, $c$ and $\\sigma^2$. We can start with an initial guess for $m$, "
     ]
    },
    {
     "cell_type": "code",
     "collapsed": true,
     "input": [
      "m = -0.4\n",
      "c = 80 "
     ],
     "language": "python",
     "metadata": {},
     "outputs": []
    },
    {
     "cell_type": "markdown",
     "metadata": {},
     "source": [
      "Then we use the maximum likelihood update, derived in this week's lecture, to find an estimate for the offset, $c$,"
     ]
    },
    {
     "cell_type": "markdown",
     "metadata": {},
     "source": [
      "$$c^* = \\frac{\\sum_{i=1}^N(y_i-m^*x_i)}{N}$$"
     ]
    },
    {
     "cell_type": "code",
     "collapsed": false,
     "input": [
      "c = (y - m*x).mean()\n",
      "print c"
     ],
     "language": "python",
     "metadata": {},
     "outputs": []
    },
    {
     "cell_type": "markdown",
     "metadata": {},
     "source": [
      "And now we can make an estimate for the gradient of the line,"
     ]
    },
    {
     "cell_type": "markdown",
     "metadata": {},
     "source": [
      "$$m^* = \\frac{\\sum_{i=1}^N ((y_i - c)*x_i))}{\\sum_{i=1}^N x_i^2}$$"
     ]
    },
    {
     "cell_type": "code",
     "collapsed": false,
     "input": [
      "m = ((y - c)*x).sum()/(x**2).sum()\n",
      "print m"
     ],
     "language": "python",
     "metadata": {},
     "outputs": []
    },
    {
     "cell_type": "markdown",
     "metadata": {},
     "source": [
      "We can have a look at how good our fit is by computing the prediction across the input space. First create a vector of 'test points',"
     ]
    },
    {
     "cell_type": "code",
     "collapsed": false,
     "input": [
      "x_test = np.linspace(1890, 2020, 130)[:, None]"
     ],
     "language": "python",
     "metadata": {},
     "outputs": []
    },
    {
     "cell_type": "markdown",
     "metadata": {},
     "source": [
      "Now use this vector to compute some test predictions,"
     ]
    },
    {
     "cell_type": "code",
     "collapsed": false,
     "input": [
      "f_test = m*x_test + c"
     ],
     "language": "python",
     "metadata": {},
     "outputs": []
    },
    {
     "cell_type": "markdown",
     "metadata": {},
     "source": [
      "Now plot those test predictions with a blue line on the same plot as the data,"
     ]
    },
    {
     "cell_type": "code",
     "collapsed": false,
     "input": [
      "plt.plot(x_test, f_test, 'b-')\n",
      "plt.plot(x, y, 'rx')"
     ],
     "language": "python",
     "metadata": {},
     "outputs": []
    },
    {
     "cell_type": "markdown",
     "metadata": {},
     "source": [
      "The fit isn't very good, we need to iterate between these parameter updates in a loop to improve the fit, we have to do this several times,"
     ]
    },
    {
     "cell_type": "code",
     "collapsed": false,
     "input": [
      "for i in np.arange(10):\n",
      "    m = ((y - c)*x).sum()/(x*x).sum()\n",
      "    c = (y-m*x).sum()/y.shape[0]\n",
      "print(m)\n",
      "print(c)"
     ],
     "language": "python",
     "metadata": {},
     "outputs": []
    },
    {
     "cell_type": "markdown",
     "metadata": {},
     "source": [
      "And let's try plotting the result again"
     ]
    },
    {
     "cell_type": "code",
     "collapsed": false,
     "input": [
      "f_test = m*x_test + c\n",
      "plt.plot(x_test, f_test, 'b-')\n",
      "plt.plot(x, y, 'rx')"
     ],
     "language": "python",
     "metadata": {},
     "outputs": []
    },
    {
     "cell_type": "markdown",
     "metadata": {},
     "source": [
      "Clearly we need more iterations than 10! Let's try add more iterations above to try and get closer to the solution."
     ]
    },
    {
     "cell_type": "heading",
     "level": 3,
     "metadata": {},
     "source": [
      "Direct Solution with Linear Algebra"
     ]
    },
    {
     "cell_type": "markdown",
     "metadata": {},
     "source": [
      "Hopefully, you are now persuaded of the merits of solving the entire system, simultaneously, using linear algebra. To do that, we need to make a design matrix of the data, which includes the $x_0=1$ column, to represent the bias, remember (from the lecture notes) that we are now moving to a system where our prediction is given by an inner product:"
     ]
    },
    {
     "cell_type": "markdown",
     "metadata": {},
     "source": [
      "$$f(\\mathbf{x}_i) = \\mathbf{x}_i^\\top\\mathbf{w}$$"
     ]
    },
    {
     "cell_type": "markdown",
     "metadata": {},
     "source": [
      "where each vector $\\mathbf{x}_i$ is given by appending a 1 onto the original vector"
     ]
    },
    {
     "cell_type": "markdown",
     "metadata": {},
     "source": [
      "$$\\mathbf{x}_i = \n",
      "\\begin{bmatrix} \n",
      "1 \\\\\\\n",
      "x_i\n",
      "\\end{bmatrix}$$"
     ]
    },
    {
     "cell_type": "markdown",
     "metadata": {},
     "source": [
      "We can do this for the entire data set to form a design matrix $\\mathbf{X}$,"
     ]
    },
    {
     "cell_type": "markdown",
     "metadata": {},
     "source": [
      "$$\\mathbf{X} = \\begin{bmatrix} \n",
      "\\mathbf{x}_1^\\top \\\\\\ \n",
      "\\mathbf{x}_2^\\top \\\\\\ \n",
      "\\vdots \\\\\\\n",
      "\\mathbf{x}_N^\\top\n",
      "\\end{bmatrix} = \\begin{bmatrix}\n",
      "1 & x_1 \\\\\\\n",
      "1 & x_2 \\\\\\\n",
      "\\vdots & \\vdots \\\\\\\n",
      "1 & x_N \n",
      "\\end{bmatrix},$$"
     ]
    },
    {
     "cell_type": "markdown",
     "metadata": {},
     "source": [
      "which in numpy is done with the following commands:"
     ]
    },
    {
     "cell_type": "code",
     "collapsed": false,
     "input": [
      "X = np.hstack((np.ones_like(x), x))\n",
      "print(X)"
     ],
     "language": "python",
     "metadata": {},
     "outputs": []
    },
    {
     "cell_type": "markdown",
     "metadata": {},
     "source": [
      "From the multivariate regression solution we derived in this week's lecture, the maximum likelihood solution for $\\mathbf{w}^*$ is given by"
     ]
    },
    {
     "cell_type": "markdown",
     "metadata": {},
     "source": [
      "$$\\mathbf{w}^* = \\left[\\mathbf{X}^\\top \\mathbf{X}\\right]^{-1} \\mathbf{X}^\\top \\mathbf{y}$$ "
     ]
    },
    {
     "cell_type": "markdown",
     "metadata": {},
     "source": [
      "First let's persuade ourselves of a few things. We suggested in the lecture that"
     ]
    },
    {
     "cell_type": "markdown",
     "metadata": {},
     "source": [
      "$$\\sum_{i=1}^N \\mathbf{x}_i\\mathbf{x}_i^\\top = \\mathbf{X}^\\top\\mathbf{X}$$"
     ]
    },
    {
     "cell_type": "markdown",
     "metadata": {},
     "source": [
      "We can show that this is, indeed the case for our data. First we need to know how to do matrix multiplication and transpose using numpy, this is done as"
     ]
    },
    {
     "cell_type": "code",
     "collapsed": false,
     "input": [
      "np.dot(X.T, X)"
     ],
     "language": "python",
     "metadata": {},
     "outputs": []
    },
    {
     "cell_type": "markdown",
     "metadata": {},
     "source": [
      "Now we will compute the same thing with a for loop"
     ]
    },
    {
     "cell_type": "code",
     "collapsed": false,
     "input": [
      "store = np.zeros((2, 2))\n",
      "for i in range(X.shape[0]):\n",
      "    store += np.outer(X[i, :], X[i, :])\n",
      "print store"
     ],
     "language": "python",
     "metadata": {},
     "outputs": []
    },
    {
     "cell_type": "markdown",
     "metadata": {},
     "source": [
      "I hope that you agree that the first version is a little more compact. "
     ]
    },
    {
     "cell_type": "heading",
     "level": 3,
     "metadata": {},
     "source": [
      "Solving the System"
     ]
    },
    {
     "cell_type": "markdown",
     "metadata": {},
     "source": [
      "The solution for $\\mathbf{w}$ is given in terms of a matrix inverse, but numerically this isn't the best way to compute it. What we actually want python to do is to *solve* the system of linear equations given by"
     ]
    },
    {
     "cell_type": "markdown",
     "metadata": {},
     "source": [
      "$$\\mathbf{X}^\\top\\mathbf{X} \\mathbf{w} = \\mathbf{X}^\\top\\mathbf{y}$$"
     ]
    },
    {
     "cell_type": "markdown",
     "metadata": {},
     "source": [
      "for $\\mathbf{w}$. This can be done in numpy using the command"
     ]
    },
    {
     "cell_type": "code",
     "collapsed": false,
     "input": [
      "np.linalg.solve?"
     ],
     "language": "python",
     "metadata": {},
     "outputs": []
    },
    {
     "cell_type": "markdown",
     "metadata": {},
     "source": [
      "so we can obtain the solution using"
     ]
    },
    {
     "cell_type": "code",
     "collapsed": false,
     "input": [
      "w = np.linalg.solve(np.dot(X.T, X), np.dot(X.T, y))\n",
      "print w"
     ],
     "language": "python",
     "metadata": {},
     "outputs": []
    },
    {
     "cell_type": "markdown",
     "metadata": {},
     "source": [
      "Allowing us to plot the fit as follows"
     ]
    },
    {
     "cell_type": "code",
     "collapsed": false,
     "input": [
      "m = w[1]; c=w[0]\n",
      "f_test = m*x_test + c\n",
      "print(m)\n",
      "print(c)\n",
      "plt.plot(x_test, f_test, 'b-')\n",
      "plt.plot(x, y, 'rx')"
     ],
     "language": "python",
     "metadata": {},
     "outputs": []
    },
    {
     "cell_type": "heading",
     "level": 2,
     "metadata": {},
     "source": [
      "Quadratic Fit"
     ]
    },
    {
     "cell_type": "markdown",
     "metadata": {},
     "source": [
      "Now we will fit a quadratic model using basis functions. Given everything we've learnt above, this is now quite easy to do. Firstly, we need to create a design matrix that contains the quadratic basis, "
     ]
    },
    {
     "cell_type": "markdown",
     "metadata": {},
     "source": [
      "$$\\mathbf{\\Phi} = \\left[ \\mathbf{1} \\quad \\mathbf{x} \\quad \\mathbf{x}^2\\right]$$"
     ]
    },
    {
     "cell_type": "markdown",
     "metadata": {},
     "source": [
      "where this notation means that each column of $\\mathbf{\\Phi}$ is derived from the entire set of input years."
     ]
    },
    {
     "cell_type": "code",
     "collapsed": false,
     "input": [
      "Phi = np.hstack([np.ones(x.shape), x, x**2])"
     ],
     "language": "python",
     "metadata": {},
     "outputs": []
    },
    {
     "cell_type": "markdown",
     "metadata": {},
     "source": [
      "Now we can solve this system for $\\mathbf{w}$ just as we did for the linear case, so we have,"
     ]
    },
    {
     "cell_type": "code",
     "collapsed": false,
     "input": [
      "w = np.linalg.solve(np.dot(Phi.T, Phi), np.dot(Phi.T, y))\n",
      "print(w)"
     ],
     "language": "python",
     "metadata": {},
     "outputs": []
    },
    {
     "cell_type": "markdown",
     "metadata": {},
     "source": [
      "We can plot the solution in two different ways, either we take"
     ]
    },
    {
     "cell_type": "code",
     "collapsed": false,
     "input": [
      "f_test = w[2]*x_test**2 + w[1]*x_test + w[0]\n",
      "plt.plot(x_test, f_test, 'b-')\n",
      "plt.plot(x, y, 'rx')"
     ],
     "language": "python",
     "metadata": {},
     "outputs": []
    },
    {
     "cell_type": "markdown",
     "metadata": {},
     "source": [
      "Or we can do the matrix form of this equation which first involves creating a design matrix for the test points,\n"
     ]
    },
    {
     "cell_type": "code",
     "collapsed": false,
     "input": [
      "Phi_test = np.hstack((np.ones_like(x_test), x_test, x_test**2))"
     ],
     "language": "python",
     "metadata": {},
     "outputs": []
    },
    {
     "cell_type": "markdown",
     "metadata": {},
     "source": [
      "and then computing the value of the function using a matrix multiply"
     ]
    },
    {
     "cell_type": "code",
     "collapsed": false,
     "input": [
      "f_test = np.dot(Phi_test,w)\n",
      "plt.plot(x_test, f_test, 'b-')\n",
      "plt.plot(x, y, 'rx')"
     ],
     "language": "python",
     "metadata": {},
     "outputs": []
    },
    {
     "cell_type": "markdown",
     "metadata": {},
     "source": [
      "Note the values of the coefficient $w_2$ in particular. It is relatively small, because it is multiplying a large number (square of 2000 is 4 million). This need to use small coefficients becomes worse as we increase the order of the fit. As an exercise for this week, try fitting higher order polynomials to the data. See what happens as you increase the polynomial order."
     ]
    }
   ],
   "metadata": {}
  }
 ]
}